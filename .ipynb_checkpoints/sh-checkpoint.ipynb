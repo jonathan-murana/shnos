{
 "cells": [
  {
   "cell_type": "markdown",
   "metadata": {},
   "source": [
    "PENCA 2008"
   ]
  },
  {
   "cell_type": "code",
   "execution_count": 23,
   "metadata": {},
   "outputs": [
    {
     "name": "stdout",
     "output_type": "stream",
     "text": [
      "Populating the interactive namespace from numpy and matplotlib\n"
     ]
    }
   ],
   "source": [
    "from IPython.display import Image\n",
    "import pandas as pd\n",
    "from os import walk\n",
    "%pylab inline\n",
    "import re\n",
    "import matplotlib.pyplot as plt\n",
    "plt.rc('legend', fontsize='small')\n",
    "from mpl_toolkits.mplot3d import Axes3D\n",
    "from IPython.display import display, HTML\n",
    "from datetime import timedelta\n",
    "from __future__ import print_function, division\n",
    "import statsmodels.formula.api as smf\n",
    "import pylab as pl\n",
    "pd.set_option('precision', 2)\n",
    "\n",
    "#import plotly.plotly as py\n",
    "#import plotly.graph_objs as go\n",
    "#from plotly.tools import FigureFactory as FF\n",
    "#import scipy\n",
    "#from xlrd import open_workbook"
   ]
  },
  {
   "cell_type": "code",
   "execution_count": 30,
   "metadata": {},
   "outputs": [
    {
     "data": {
      "text/html": [
       "<div>\n",
       "<style scoped>\n",
       "    .dataframe tbody tr th:only-of-type {\n",
       "        vertical-align: middle;\n",
       "    }\n",
       "\n",
       "    .dataframe tbody tr th {\n",
       "        vertical-align: top;\n",
       "    }\n",
       "\n",
       "    .dataframe thead th {\n",
       "        text-align: right;\n",
       "    }\n",
       "</style>\n",
       "<table border=\"1\" class=\"dataframe\">\n",
       "  <thead>\n",
       "    <tr style=\"text-align: right;\">\n",
       "      <th></th>\n",
       "      <th>idx</th>\n",
       "      <th>points</th>\n",
       "      <th>incompletes</th>\n",
       "    </tr>\n",
       "  </thead>\n",
       "  <tbody>\n",
       "    <tr>\n",
       "      <th>1</th>\n",
       "      <td>RESULTADO.xlsx|aaaaaa|aaaaaa</td>\n",
       "      <td>84</td>\n",
       "      <td>12.0</td>\n",
       "    </tr>\n",
       "    <tr>\n",
       "      <th>0</th>\n",
       "      <td>JonathanMurana_SebaSilvera.xlsx|Sebastian Silv...</td>\n",
       "      <td>25</td>\n",
       "      <td>0.0</td>\n",
       "    </tr>\n",
       "    <tr>\n",
       "      <th>2</th>\n",
       "      <td>jona.xlsx|nan|nan</td>\n",
       "      <td>11</td>\n",
       "      <td>83.0</td>\n",
       "    </tr>\n",
       "    <tr>\n",
       "      <th>3</th>\n",
       "      <td>mariano.xlsx|nan|nan</td>\n",
       "      <td>9</td>\n",
       "      <td>84.0</td>\n",
       "    </tr>\n",
       "  </tbody>\n",
       "</table>\n",
       "</div>"
      ],
      "text/plain": [
       "                                                 idx  points  incompletes\n",
       "1                       RESULTADO.xlsx|aaaaaa|aaaaaa      84         12.0\n",
       "0  JonathanMurana_SebaSilvera.xlsx|Sebastian Silv...      25          0.0\n",
       "2                                  jona.xlsx|nan|nan      11         83.0\n",
       "3                               mariano.xlsx|nan|nan       9         84.0"
      ]
     },
     "metadata": {},
     "output_type": "display_data"
    }
   ],
   "source": [
    "def points(xg1,xg2,rg1,rg2):\n",
    "  res = 0\n",
    "  if xg1==rg1:\n",
    "    res += 1\n",
    "  if xg2==rg2:\n",
    "    res += 1\n",
    "  return res\n",
    "\n",
    "def incomplete(xg1,xg2):\n",
    "  if math.isnan(xg1) and math.isnan(xg2):\n",
    "    return 2\n",
    "  if math.isnan(xg1):\n",
    "    return 1\n",
    "  if math.isnan(xg2):\n",
    "    return 1\n",
    "  \n",
    "def buildx(file):\n",
    "  xls = pd.ExcelFile(\"files/\"+file)\n",
    "  y = pd.read_excel(xls, 'Fase de grupos')\n",
    "  name=y[y.columns[4]][0]\n",
    "  mail=y[y.columns[4]][0]\n",
    "  y=y[[y.columns[6],y.columns[7],y.columns[8],y.columns[9],]]\n",
    "  y.columns = ['t1','g1','g2','t2']\n",
    "  y['id']=\"%s|%s|%s\" % (file, name, mail)\n",
    "  #select rows\n",
    "  A=y.iloc[4:10]\n",
    "  B=y.iloc[14:20]\n",
    "  C=y.iloc[24:30]\n",
    "  D=y.iloc[34:40]\n",
    "  E=y.iloc[44:50]\n",
    "  F=y.iloc[54:60]\n",
    "  G=y.iloc[64:70]\n",
    "  H=y.iloc[74:80]\n",
    "  z = pd.concat([A,B,C,D,E,F,G,H],axis=0)\n",
    "  return pd.DataFrame(z)  \n",
    "    \n",
    "r=buildx(\"RESULTADO.xlsx\")\n",
    "x=pd.DataFrame()\n",
    "for file in filter(lambda k: k.endswith('.xlsx'), next(walk(\"files/\"))[2][:]):\n",
    "  z=buildx(file)\n",
    "  z = pd.concat([z,r],axis=1) \n",
    "  z.columns = ['xt1','xg1','xg2','xt2','idx','rt1','rg1','rg2','rt2','idr']  \n",
    "  x = x.append(z)\n",
    "\n",
    "x['points'] =  pd.Series(x.apply(lambda x:points(x.xg1,x.xg2,x.rg1,x.rg2),axis = 1))\n",
    "x['incompletes'] =  pd.Series(x.apply(lambda x:incomplete(x.xg1,x.xg2),axis = 1))\n",
    "\n",
    "#display (x)\n",
    "result = x.groupby(['idx']).sum().reset_index()\n",
    "#display (result)    \n",
    "\n",
    "result2 = result\n",
    "result1 = result.sort_values(['points'], ascending=False)[['idx','points','incompletes']]\n",
    "display (result1)    \n",
    "#display (result2)    \n"
   ]
  },
  {
   "cell_type": "code",
   "execution_count": null,
   "metadata": {
    "collapsed": true
   },
   "outputs": [],
   "source": []
  }
 ],
 "metadata": {
  "anaconda-cloud": {},
  "kernelspec": {
   "display_name": "Python 3",
   "language": "python",
   "name": "python3"
  },
  "language_info": {
   "codemirror_mode": {
    "name": "ipython",
    "version": 3
   },
   "file_extension": ".py",
   "mimetype": "text/x-python",
   "name": "python",
   "nbconvert_exporter": "python",
   "pygments_lexer": "ipython3",
   "version": "3.6.3"
  }
 },
 "nbformat": 4,
 "nbformat_minor": 2
}
