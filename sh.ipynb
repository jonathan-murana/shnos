{
 "cells": [
  {
   "cell_type": "markdown",
   "metadata": {},
   "source": [
    "PENCA 2008"
   ]
  },
  {
   "cell_type": "code",
   "execution_count": 45,
   "metadata": {},
   "outputs": [
    {
     "name": "stdout",
     "output_type": "stream",
     "text": [
      "Populating the interactive namespace from numpy and matplotlib\n"
     ]
    }
   ],
   "source": [
    "from IPython.display import Image\n",
    "import pandas as pd\n",
    "from os import walk\n",
    "%pylab inline\n",
    "import re\n",
    "import matplotlib.pyplot as plt\n",
    "plt.rc('legend', fontsize='small')\n",
    "from mpl_toolkits.mplot3d import Axes3D\n",
    "from IPython.display import display, HTML\n",
    "from datetime import timedelta\n",
    "from __future__ import print_function, division\n",
    "import statsmodels.formula.api as smf\n",
    "import pylab as pl\n",
    "pd.set_option('precision', 2)\n",
    "\n",
    "from io import StringIO  # got moved to io in python3.\n",
    "\n",
    "#import plotly.plotly as py\n",
    "#import plotly.graph_objs as go\n",
    "\n",
    "#from plotly.tools import FigureFactory as FF\n",
    "#import scipy\n",
    "#from xlrd import open_workbook"
   ]
  },
  {
   "cell_type": "code",
   "execution_count": 59,
   "metadata": {},
   "outputs": [
    {
     "data": {
      "text/html": [
       "<div>\n",
       "<style scoped>\n",
       "    .dataframe tbody tr th:only-of-type {\n",
       "        vertical-align: middle;\n",
       "    }\n",
       "\n",
       "    .dataframe tbody tr th {\n",
       "        vertical-align: top;\n",
       "    }\n",
       "\n",
       "    .dataframe thead th {\n",
       "        text-align: right;\n",
       "    }\n",
       "</style>\n",
       "<table border=\"1\" class=\"dataframe\">\n",
       "  <thead>\n",
       "    <tr style=\"text-align: right;\">\n",
       "      <th></th>\n",
       "      <th>edificio</th>\n",
       "      <th>direccion</th>\n",
       "      <th>coordenadas</th>\n",
       "      <th>horas duracion limpieza</th>\n",
       "      <th>limpiezas x semana</th>\n",
       "      <th>dias entre limpiezas</th>\n",
       "      <th>empleados obligatorios</th>\n",
       "      <th>dias obligatorios</th>\n",
       "      <th>otras reglas</th>\n",
       "    </tr>\n",
       "  </thead>\n",
       "  <tbody>\n",
       "    <tr>\n",
       "      <th>0</th>\n",
       "      <td>durazno1</td>\n",
       "      <td>Durazno y andes</td>\n",
       "      <td>-34.866414, -56.214026</td>\n",
       "      <td>0.5</td>\n",
       "      <td>1</td>\n",
       "      <td>2</td>\n",
       "      <td>Carlos</td>\n",
       "      <td>martes</td>\n",
       "      <td>solo de mañana</td>\n",
       "    </tr>\n",
       "    <tr>\n",
       "      <th>1</th>\n",
       "      <td>ejido1</td>\n",
       "      <td>ejido y dieciocho de julio</td>\n",
       "      <td>-34.911084, -56.197551</td>\n",
       "      <td>2.0</td>\n",
       "      <td>2</td>\n",
       "      <td>2</td>\n",
       "      <td>NaN</td>\n",
       "      <td>martes, viernes</td>\n",
       "      <td>NaN</td>\n",
       "    </tr>\n",
       "    <tr>\n",
       "      <th>2</th>\n",
       "      <td>andes1</td>\n",
       "      <td>andes 1206</td>\n",
       "      <td>-34.908339, -56.197894</td>\n",
       "      <td>1.0</td>\n",
       "      <td>1</td>\n",
       "      <td>2</td>\n",
       "      <td>Carlos, Juan</td>\n",
       "      <td>NaN</td>\n",
       "      <td>NaN</td>\n",
       "    </tr>\n",
       "  </tbody>\n",
       "</table>\n",
       "</div>"
      ],
      "text/plain": [
       "   edificio                   direccion             coordenadas  \\\n",
       "0  durazno1             Durazno y andes  -34.866414, -56.214026   \n",
       "1    ejido1  ejido y dieciocho de julio  -34.911084, -56.197551   \n",
       "2    andes1                  andes 1206  -34.908339, -56.197894   \n",
       "\n",
       "   horas duracion limpieza  limpiezas x semana  dias entre limpiezas  \\\n",
       "0                      0.5                   1                     2   \n",
       "1                      2.0                   2                     2   \n",
       "2                      1.0                   1                     2   \n",
       "\n",
       "  empleados obligatorios dias obligatorios    otras reglas  \n",
       "0                 Carlos            martes  solo de mañana  \n",
       "1                    NaN   martes, viernes             NaN  \n",
       "2           Carlos, Juan               NaN             NaN  "
      ]
     },
     "metadata": {},
     "output_type": "display_data"
    },
    {
     "data": {
      "text/html": [
       "<div>\n",
       "<style scoped>\n",
       "    .dataframe tbody tr th:only-of-type {\n",
       "        vertical-align: middle;\n",
       "    }\n",
       "\n",
       "    .dataframe tbody tr th {\n",
       "        vertical-align: top;\n",
       "    }\n",
       "\n",
       "    .dataframe thead th {\n",
       "        text-align: right;\n",
       "    }\n",
       "</style>\n",
       "<table border=\"1\" class=\"dataframe\">\n",
       "  <thead>\n",
       "    <tr style=\"text-align: right;\">\n",
       "      <th></th>\n",
       "      <th>nombre</th>\n",
       "      <th>horas x dia</th>\n",
       "      <th>otras reglas</th>\n",
       "    </tr>\n",
       "  </thead>\n",
       "  <tbody>\n",
       "    <tr>\n",
       "      <th>0</th>\n",
       "      <td>Juan</td>\n",
       "      <td>4</td>\n",
       "      <td>los martes trabaja junto con Carlos</td>\n",
       "    </tr>\n",
       "    <tr>\n",
       "      <th>1</th>\n",
       "      <td>Carlos</td>\n",
       "      <td>7</td>\n",
       "      <td>los martes trabaja junto con Juan y los mierco...</td>\n",
       "    </tr>\n",
       "    <tr>\n",
       "      <th>2</th>\n",
       "      <td>Alicia</td>\n",
       "      <td>3</td>\n",
       "      <td>NaN</td>\n",
       "    </tr>\n",
       "  </tbody>\n",
       "</table>\n",
       "</div>"
      ],
      "text/plain": [
       "   nombre  horas x dia                                       otras reglas\n",
       "0    Juan            4                los martes trabaja junto con Carlos\n",
       "1  Carlos            7  los martes trabaja junto con Juan y los mierco...\n",
       "2  Alicia            3                                                NaN"
      ]
     },
     "metadata": {},
     "output_type": "display_data"
    }
   ],
   "source": [
    "\n",
    "import requests\n",
    "\n",
    "r = requests.get('https://docs.google.com/spreadsheets/d/1cXMKJq39oErXuHkXFAOSqRmvEh91xP-E4jkPcTAzKNY/export?format=csv&id=1cXMKJq39oErXuHkXFAOSqRmvEh91xP-E4jkPcTAzKNY&gid=920048458')\n",
    "data = r.content\n",
    "edificios = pd.read_csv(StringIO(data.decode(\"utf-8\")))\n",
    "\n",
    "\n",
    "r = requests.get('https://docs.google.com/spreadsheets/d/1cXMKJq39oErXuHkXFAOSqRmvEh91xP-E4jkPcTAzKNY/export?format=csv&id=1cXMKJq39oErXuHkXFAOSqRmvEh91xP-E4jkPcTAzKNY&gid=893394665')\n",
    "data = r.content\n",
    "empleados = pd.read_csv(StringIO(data.decode(\"utf-8\")))\n",
    "\n",
    "display(edificios)\n",
    "display(empleados)\n",
    "\n",
    "\n",
    "\n",
    "\n",
    "\n",
    "\n",
    "\n",
    "\n",
    "\n"
   ]
  },
  {
   "cell_type": "code",
   "execution_count": null,
   "metadata": {
    "collapsed": true
   },
   "outputs": [],
   "source": []
  }
 ],
 "metadata": {
  "anaconda-cloud": {},
  "kernelspec": {
   "display_name": "Python 3",
   "language": "python",
   "name": "python3"
  },
  "language_info": {
   "codemirror_mode": {
    "name": "ipython",
    "version": 3
   },
   "file_extension": ".py",
   "mimetype": "text/x-python",
   "name": "python",
   "nbconvert_exporter": "python",
   "pygments_lexer": "ipython3",
   "version": "3.6.3"
  }
 },
 "nbformat": 4,
 "nbformat_minor": 2
}
